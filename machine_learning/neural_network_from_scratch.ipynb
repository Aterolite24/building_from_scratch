{
  "metadata": {
    "kernelspec": {
      "language": "python",
      "display_name": "Python 3",
      "name": "python3"
    },
    "language_info": {
      "name": "python",
      "version": "3.10.13",
      "mimetype": "text/x-python",
      "codemirror_mode": {
        "name": "ipython",
        "version": 3
      },
      "pygments_lexer": "ipython3",
      "nbconvert_exporter": "python",
      "file_extension": ".py"
    },
    "kaggle": {
      "accelerator": "none",
      "dataSources": [
        {
          "sourceId": 3004,
          "databundleVersionId": 861823,
          "sourceType": "competition"
        }
      ],
      "dockerImageVersionId": 30673,
      "isInternetEnabled": false,
      "language": "python",
      "sourceType": "notebook",
      "isGpuEnabled": false
    },
    "colab": {
      "provenance": []
    }
  },
  "nbformat_minor": 0,
  "nbformat": 4,
  "cells": [
    {
      "cell_type": "code",
      "source": [
        "import numpy as np # linear algebra\n",
        "import pandas as pd # data processing, CSV file I/O (e.g. pd.read_csv)\n",
        "import matplotlib.pyplot as plt"
      ],
      "metadata": {
        "_uuid": "8f2839f25d086af736a60e9eeb907d3b93b6e0e5",
        "_cell_guid": "b1076dfc-b9ad-4769-8c92-a6c4dae69d19",
        "execution": {
          "iopub.status.busy": "2024-04-05T08:37:30.706748Z",
          "iopub.execute_input": "2024-04-05T08:37:30.707148Z",
          "iopub.status.idle": "2024-04-05T08:37:30.712401Z",
          "shell.execute_reply.started": "2024-04-05T08:37:30.707121Z",
          "shell.execute_reply": "2024-04-05T08:37:30.711247Z"
        },
        "trusted": true,
        "id": "HAOhtTxdncbv"
      },
      "execution_count": null,
      "outputs": []
    },
    {
      "cell_type": "markdown",
      "source": [
        "Please follow the steps below to download and use kaggle data within Google Colab:\n",
        "\n",
        "1. Go to your account, Scroll to API section and Click Expire API Token to remove previous tokens\n",
        "\n",
        "2. Click on Create New API Token - It will download kaggle.json file on your machine.\n",
        "\n",
        "3. Go to your Google Colab project file and run the following commands:\n",
        "\n",
        "1) ! pip install -q kaggle\n",
        "\n",
        "2) from google.colab import files\n",
        "\n",
        "files.upload()\n",
        "\n",
        "Choose the kaggle.json file that you downloaded\n",
        "3) ! mkdir ~/.kaggle\n",
        "\n",
        "! cp kaggle.json ~/.kaggle/\n",
        "\n",
        "Make directory named kaggle and copy kaggle.json file there.\n",
        "4) ! chmod 600 ~/.kaggle/kaggle.json\n",
        "\n",
        "Change the permissions of the file.\n",
        "5) ! kaggle datasets list\n",
        "- That's all ! You can check if everything's okay by running this command."
      ],
      "metadata": {
        "id": "Iirs-hZwps_Z"
      }
    },
    {
      "cell_type": "code",
      "source": [
        "! pip install -q kaggle"
      ],
      "metadata": {
        "id": "UWe9jCDano5t"
      },
      "execution_count": null,
      "outputs": []
    },
    {
      "cell_type": "code",
      "source": [
        "from google.colab import files\n",
        "\n",
        "files.upload()"
      ],
      "metadata": {
        "colab": {
          "base_uri": "https://localhost:8080/",
          "height": 90
        },
        "id": "iddiXUEJoicO",
        "outputId": "3e6ca4f8-c3f5-4ce7-85b3-314c2f0e9748"
      },
      "execution_count": null,
      "outputs": [
        {
          "output_type": "display_data",
          "data": {
            "text/plain": [
              "<IPython.core.display.HTML object>"
            ],
            "text/html": [
              "\n",
              "     <input type=\"file\" id=\"files-56ea1f2c-b4c6-4997-97cc-ecb6bb143868\" name=\"files[]\" multiple disabled\n",
              "        style=\"border:none\" />\n",
              "     <output id=\"result-56ea1f2c-b4c6-4997-97cc-ecb6bb143868\">\n",
              "      Upload widget is only available when the cell has been executed in the\n",
              "      current browser session. Please rerun this cell to enable.\n",
              "      </output>\n",
              "      <script>// Copyright 2017 Google LLC\n",
              "//\n",
              "// Licensed under the Apache License, Version 2.0 (the \"License\");\n",
              "// you may not use this file except in compliance with the License.\n",
              "// You may obtain a copy of the License at\n",
              "//\n",
              "//      http://www.apache.org/licenses/LICENSE-2.0\n",
              "//\n",
              "// Unless required by applicable law or agreed to in writing, software\n",
              "// distributed under the License is distributed on an \"AS IS\" BASIS,\n",
              "// WITHOUT WARRANTIES OR CONDITIONS OF ANY KIND, either express or implied.\n",
              "// See the License for the specific language governing permissions and\n",
              "// limitations under the License.\n",
              "\n",
              "/**\n",
              " * @fileoverview Helpers for google.colab Python module.\n",
              " */\n",
              "(function(scope) {\n",
              "function span(text, styleAttributes = {}) {\n",
              "  const element = document.createElement('span');\n",
              "  element.textContent = text;\n",
              "  for (const key of Object.keys(styleAttributes)) {\n",
              "    element.style[key] = styleAttributes[key];\n",
              "  }\n",
              "  return element;\n",
              "}\n",
              "\n",
              "// Max number of bytes which will be uploaded at a time.\n",
              "const MAX_PAYLOAD_SIZE = 100 * 1024;\n",
              "\n",
              "function _uploadFiles(inputId, outputId) {\n",
              "  const steps = uploadFilesStep(inputId, outputId);\n",
              "  const outputElement = document.getElementById(outputId);\n",
              "  // Cache steps on the outputElement to make it available for the next call\n",
              "  // to uploadFilesContinue from Python.\n",
              "  outputElement.steps = steps;\n",
              "\n",
              "  return _uploadFilesContinue(outputId);\n",
              "}\n",
              "\n",
              "// This is roughly an async generator (not supported in the browser yet),\n",
              "// where there are multiple asynchronous steps and the Python side is going\n",
              "// to poll for completion of each step.\n",
              "// This uses a Promise to block the python side on completion of each step,\n",
              "// then passes the result of the previous step as the input to the next step.\n",
              "function _uploadFilesContinue(outputId) {\n",
              "  const outputElement = document.getElementById(outputId);\n",
              "  const steps = outputElement.steps;\n",
              "\n",
              "  const next = steps.next(outputElement.lastPromiseValue);\n",
              "  return Promise.resolve(next.value.promise).then((value) => {\n",
              "    // Cache the last promise value to make it available to the next\n",
              "    // step of the generator.\n",
              "    outputElement.lastPromiseValue = value;\n",
              "    return next.value.response;\n",
              "  });\n",
              "}\n",
              "\n",
              "/**\n",
              " * Generator function which is called between each async step of the upload\n",
              " * process.\n",
              " * @param {string} inputId Element ID of the input file picker element.\n",
              " * @param {string} outputId Element ID of the output display.\n",
              " * @return {!Iterable<!Object>} Iterable of next steps.\n",
              " */\n",
              "function* uploadFilesStep(inputId, outputId) {\n",
              "  const inputElement = document.getElementById(inputId);\n",
              "  inputElement.disabled = false;\n",
              "\n",
              "  const outputElement = document.getElementById(outputId);\n",
              "  outputElement.innerHTML = '';\n",
              "\n",
              "  const pickedPromise = new Promise((resolve) => {\n",
              "    inputElement.addEventListener('change', (e) => {\n",
              "      resolve(e.target.files);\n",
              "    });\n",
              "  });\n",
              "\n",
              "  const cancel = document.createElement('button');\n",
              "  inputElement.parentElement.appendChild(cancel);\n",
              "  cancel.textContent = 'Cancel upload';\n",
              "  const cancelPromise = new Promise((resolve) => {\n",
              "    cancel.onclick = () => {\n",
              "      resolve(null);\n",
              "    };\n",
              "  });\n",
              "\n",
              "  // Wait for the user to pick the files.\n",
              "  const files = yield {\n",
              "    promise: Promise.race([pickedPromise, cancelPromise]),\n",
              "    response: {\n",
              "      action: 'starting',\n",
              "    }\n",
              "  };\n",
              "\n",
              "  cancel.remove();\n",
              "\n",
              "  // Disable the input element since further picks are not allowed.\n",
              "  inputElement.disabled = true;\n",
              "\n",
              "  if (!files) {\n",
              "    return {\n",
              "      response: {\n",
              "        action: 'complete',\n",
              "      }\n",
              "    };\n",
              "  }\n",
              "\n",
              "  for (const file of files) {\n",
              "    const li = document.createElement('li');\n",
              "    li.append(span(file.name, {fontWeight: 'bold'}));\n",
              "    li.append(span(\n",
              "        `(${file.type || 'n/a'}) - ${file.size} bytes, ` +\n",
              "        `last modified: ${\n",
              "            file.lastModifiedDate ? file.lastModifiedDate.toLocaleDateString() :\n",
              "                                    'n/a'} - `));\n",
              "    const percent = span('0% done');\n",
              "    li.appendChild(percent);\n",
              "\n",
              "    outputElement.appendChild(li);\n",
              "\n",
              "    const fileDataPromise = new Promise((resolve) => {\n",
              "      const reader = new FileReader();\n",
              "      reader.onload = (e) => {\n",
              "        resolve(e.target.result);\n",
              "      };\n",
              "      reader.readAsArrayBuffer(file);\n",
              "    });\n",
              "    // Wait for the data to be ready.\n",
              "    let fileData = yield {\n",
              "      promise: fileDataPromise,\n",
              "      response: {\n",
              "        action: 'continue',\n",
              "      }\n",
              "    };\n",
              "\n",
              "    // Use a chunked sending to avoid message size limits. See b/62115660.\n",
              "    let position = 0;\n",
              "    do {\n",
              "      const length = Math.min(fileData.byteLength - position, MAX_PAYLOAD_SIZE);\n",
              "      const chunk = new Uint8Array(fileData, position, length);\n",
              "      position += length;\n",
              "\n",
              "      const base64 = btoa(String.fromCharCode.apply(null, chunk));\n",
              "      yield {\n",
              "        response: {\n",
              "          action: 'append',\n",
              "          file: file.name,\n",
              "          data: base64,\n",
              "        },\n",
              "      };\n",
              "\n",
              "      let percentDone = fileData.byteLength === 0 ?\n",
              "          100 :\n",
              "          Math.round((position / fileData.byteLength) * 100);\n",
              "      percent.textContent = `${percentDone}% done`;\n",
              "\n",
              "    } while (position < fileData.byteLength);\n",
              "  }\n",
              "\n",
              "  // All done.\n",
              "  yield {\n",
              "    response: {\n",
              "      action: 'complete',\n",
              "    }\n",
              "  };\n",
              "}\n",
              "\n",
              "scope.google = scope.google || {};\n",
              "scope.google.colab = scope.google.colab || {};\n",
              "scope.google.colab._files = {\n",
              "  _uploadFiles,\n",
              "  _uploadFilesContinue,\n",
              "};\n",
              "})(self);\n",
              "</script> "
            ]
          },
          "metadata": {}
        },
        {
          "output_type": "stream",
          "name": "stdout",
          "text": [
            "Saving kaggle.json to kaggle.json\n"
          ]
        },
        {
          "output_type": "execute_result",
          "data": {
            "text/plain": [
              "{'kaggle.json': b'{\"username\":\"achalgawande\",\"key\":\"bcdc17ef002cd909fa5436b5aee9d3d3\"}'}"
            ]
          },
          "metadata": {},
          "execution_count": 9
        }
      ]
    },
    {
      "cell_type": "code",
      "source": [
        "! mkdir ~/.kaggle\n",
        "\n",
        "! cp kaggle.json ~/.kaggle/\n",
        "\n",
        "! chmod 600 ~/.kaggle/kaggle.json\n",
        "\n",
        "! kaggle datasets list"
      ],
      "metadata": {
        "colab": {
          "base_uri": "https://localhost:8080/"
        },
        "id": "Y8reNakRovQB",
        "outputId": "c5983d3e-cc60-4474-b5e0-81f31f3c145a"
      },
      "execution_count": null,
      "outputs": [
        {
          "output_type": "stream",
          "name": "stdout",
          "text": [
            "mkdir: cannot create directory ‘/root/.kaggle’: File exists\n",
            "Warning: Looks like you're using an outdated API Version, please consider updating (server 1.6.7 / client 1.5.16)\n",
            "ref                                                         title                                           size  lastUpdated          downloadCount  voteCount  usabilityRating  \n",
            "----------------------------------------------------------  ---------------------------------------------  -----  -------------------  -------------  ---------  ---------------  \n",
            "sudarshan24byte/online-food-dataset                         Online Food Dataset                              3KB  2024-03-02 18:50:30          19041        381  0.9411765        \n",
            "sahirmaharajj/electric-vehicle-population-size-2024         Electric Vehicle Population by Country (2024)  275KB  2024-03-30 19:16:06           1028         30  1.0              \n",
            "mexwell/drug-consumption-classification                     💊 Drug Consumption Classification               56KB  2024-03-28 15:02:22           1549         33  1.0              \n",
            "bhavikjikadara/student-study-performance                    Student Study Performance                        9KB  2024-03-07 06:14:09           9597        131  1.0              \n",
            "jatinthakur706/most-watched-netflix-original-shows-tv-time  Most watched Netflix original shows (TV Time)    2KB  2024-03-27 09:01:21           1751         28  1.0              \n",
            "divu2001/coffee-shop-sales-analysis                         Coffee Shop Sales Analysis                       2MB  2024-03-30 10:57:57           1551         31  1.0              \n",
            "syedanwarafridi/vehicle-sales-data                          Vehicle Sales Data                              19MB  2024-02-21 20:16:17          25077        394  1.0              \n",
            "sukhmandeepsinghbrar/heart-attack-dataset                   Heart Attack Dataset                            16KB  2024-03-30 05:14:35           1458         25  1.0              \n",
            "lovishbansal123/sales-of-a-supermarket                      Sales of a Supermarket                          36KB  2024-03-26 12:38:06           2502         41  1.0              \n",
            "nbroad/gemma-rewrite-nbroad                                 gemma-rewrite-nbroad                             8MB  2024-03-03 04:52:39           1279         89  1.0              \n",
            "samira1992/diabetes-intermediate-dataset                    🩸 Diabetes - Intermediate 🗃️ Dataset             9KB  2024-03-31 20:14:34            716         31  1.0              \n",
            "saurabhbadole/latest-data-science-job-salaries-2024         Latest Data Science Job Salaries 2020 - 2024    69KB  2024-03-26 19:00:33           1460         34  1.0              \n",
            "anandshaw2001/airlines-reviews-and-rating                   Airlines Reviews and Rating                      1MB  2024-03-24 17:13:19           1180         30  1.0              \n",
            "susanta21/real-student-mbb-degree-college-data              Student General Degree College Data            426KB  2024-03-30 11:26:10            961         33  1.0              \n",
            "arnavvvvv/spotify-music                                     Top Spotify Songs                               47KB  2024-03-06 05:20:29           8125        107  1.0              \n",
            "kanchana1990/world-air-quality-data-2024-updated            World Air Quality Data 2024 (Updated)            2MB  2024-03-25 15:10:07           1946         49  1.0              \n",
            "bhavikjikadara/mental-health-dataset                        Mental Health Dataset                            2MB  2024-03-18 06:05:16           2893         51  1.0              \n",
            "alistairking/natural-gas-usage                              Natural Gas Usage (2014-Now)                   490KB  2024-03-31 02:31:28            654         32  1.0              \n",
            "tanishqdublish/vehcile-fuel-consumption                     Vehicle Fuel consumption                         1MB  2024-03-28 07:18:39            853         31  1.0              \n",
            "sukhmandeepsinghbrar/car-price-prediction-dataset           Car Price Prediction Dataset                   141KB  2024-03-28 08:27:39           1059         32  1.0              \n"
          ]
        }
      ]
    },
    {
      "cell_type": "markdown",
      "source": [
        "Download Data\n",
        "! kaggle competitions download -c 'name-of-competition'\n",
        "\n",
        "Use unzip command to unzip the data:\n",
        "\n",
        "For example,\n",
        "\n",
        "Create a directory named train,\n",
        "\n",
        "! mkdir train\n",
        "\n",
        "unzip train data there,\n",
        "\n",
        "! unzip train.zip -d train"
      ],
      "metadata": {
        "id": "PYe9F9odqPP9"
      }
    },
    {
      "cell_type": "code",
      "source": [
        "!kaggle competitions download -c digit-recognizer"
      ],
      "metadata": {
        "colab": {
          "base_uri": "https://localhost:8080/"
        },
        "id": "j8Uid-GJqUIU",
        "outputId": "94b10f70-dc02-4468-c84f-5e41942e525b"
      },
      "execution_count": null,
      "outputs": [
        {
          "output_type": "stream",
          "name": "stdout",
          "text": [
            "Downloading digit-recognizer.zip to /content\n",
            "\r  0% 0.00/15.3M [00:00<?, ?B/s]\n",
            "\r100% 15.3M/15.3M [00:00<00:00, 187MB/s]\n"
          ]
        }
      ]
    },
    {
      "cell_type": "code",
      "source": [
        "!unzip 'digit-recognizer.zip'"
      ],
      "metadata": {
        "colab": {
          "base_uri": "https://localhost:8080/"
        },
        "id": "zvSU4J5zqmLE",
        "outputId": "0473d147-3fea-4322-ae31-7a4457352870"
      },
      "execution_count": null,
      "outputs": [
        {
          "output_type": "stream",
          "name": "stdout",
          "text": [
            "Archive:  digit-recognizer.zip\n",
            "  inflating: sample_submission.csv   \n",
            "  inflating: test.csv                \n",
            "  inflating: train.csv               \n"
          ]
        }
      ]
    },
    {
      "cell_type": "code",
      "source": [
        "data = pd.read_csv('/content/train.csv')"
      ],
      "metadata": {
        "execution": {
          "iopub.status.busy": "2024-04-05T08:32:41.797624Z",
          "iopub.execute_input": "2024-04-05T08:32:41.798114Z",
          "iopub.status.idle": "2024-04-05T08:32:44.986505Z",
          "shell.execute_reply.started": "2024-04-05T08:32:41.798084Z",
          "shell.execute_reply": "2024-04-05T08:32:44.985478Z"
        },
        "trusted": true,
        "id": "WOc5469rncbw"
      },
      "execution_count": null,
      "outputs": []
    },
    {
      "cell_type": "code",
      "source": [
        "data.head()"
      ],
      "metadata": {
        "execution": {
          "iopub.status.busy": "2024-04-05T08:32:55.343056Z",
          "iopub.execute_input": "2024-04-05T08:32:55.343421Z",
          "iopub.status.idle": "2024-04-05T08:32:55.367624Z",
          "shell.execute_reply.started": "2024-04-05T08:32:55.343391Z",
          "shell.execute_reply": "2024-04-05T08:32:55.366862Z"
        },
        "trusted": true,
        "colab": {
          "base_uri": "https://localhost:8080/",
          "height": 256
        },
        "id": "VYViAB0Oncbw",
        "outputId": "89aa4513-ea48-4607-d5bb-253ce40d1458"
      },
      "execution_count": null,
      "outputs": [
        {
          "output_type": "execute_result",
          "data": {
            "text/plain": [
              "   label  pixel0  pixel1  pixel2  pixel3  pixel4  pixel5  pixel6  pixel7  \\\n",
              "0      1       0       0       0       0       0       0       0       0   \n",
              "1      0       0       0       0       0       0       0       0       0   \n",
              "2      1       0       0       0       0       0       0       0       0   \n",
              "3      4       0       0       0       0       0       0       0       0   \n",
              "4      0       0       0       0       0       0       0       0       0   \n",
              "\n",
              "   pixel8  ...  pixel774  pixel775  pixel776  pixel777  pixel778  pixel779  \\\n",
              "0       0  ...         0         0         0         0         0         0   \n",
              "1       0  ...         0         0         0         0         0         0   \n",
              "2       0  ...         0         0         0         0         0         0   \n",
              "3       0  ...         0         0         0         0         0         0   \n",
              "4       0  ...         0         0         0         0         0         0   \n",
              "\n",
              "   pixel780  pixel781  pixel782  pixel783  \n",
              "0         0         0         0         0  \n",
              "1         0         0         0         0  \n",
              "2         0         0         0         0  \n",
              "3         0         0         0         0  \n",
              "4         0         0         0         0  \n",
              "\n",
              "[5 rows x 785 columns]"
            ],
            "text/html": [
              "\n",
              "  <div id=\"df-3833c148-c432-480a-9974-a46d3513d681\" class=\"colab-df-container\">\n",
              "    <div>\n",
              "<style scoped>\n",
              "    .dataframe tbody tr th:only-of-type {\n",
              "        vertical-align: middle;\n",
              "    }\n",
              "\n",
              "    .dataframe tbody tr th {\n",
              "        vertical-align: top;\n",
              "    }\n",
              "\n",
              "    .dataframe thead th {\n",
              "        text-align: right;\n",
              "    }\n",
              "</style>\n",
              "<table border=\"1\" class=\"dataframe\">\n",
              "  <thead>\n",
              "    <tr style=\"text-align: right;\">\n",
              "      <th></th>\n",
              "      <th>label</th>\n",
              "      <th>pixel0</th>\n",
              "      <th>pixel1</th>\n",
              "      <th>pixel2</th>\n",
              "      <th>pixel3</th>\n",
              "      <th>pixel4</th>\n",
              "      <th>pixel5</th>\n",
              "      <th>pixel6</th>\n",
              "      <th>pixel7</th>\n",
              "      <th>pixel8</th>\n",
              "      <th>...</th>\n",
              "      <th>pixel774</th>\n",
              "      <th>pixel775</th>\n",
              "      <th>pixel776</th>\n",
              "      <th>pixel777</th>\n",
              "      <th>pixel778</th>\n",
              "      <th>pixel779</th>\n",
              "      <th>pixel780</th>\n",
              "      <th>pixel781</th>\n",
              "      <th>pixel782</th>\n",
              "      <th>pixel783</th>\n",
              "    </tr>\n",
              "  </thead>\n",
              "  <tbody>\n",
              "    <tr>\n",
              "      <th>0</th>\n",
              "      <td>1</td>\n",
              "      <td>0</td>\n",
              "      <td>0</td>\n",
              "      <td>0</td>\n",
              "      <td>0</td>\n",
              "      <td>0</td>\n",
              "      <td>0</td>\n",
              "      <td>0</td>\n",
              "      <td>0</td>\n",
              "      <td>0</td>\n",
              "      <td>...</td>\n",
              "      <td>0</td>\n",
              "      <td>0</td>\n",
              "      <td>0</td>\n",
              "      <td>0</td>\n",
              "      <td>0</td>\n",
              "      <td>0</td>\n",
              "      <td>0</td>\n",
              "      <td>0</td>\n",
              "      <td>0</td>\n",
              "      <td>0</td>\n",
              "    </tr>\n",
              "    <tr>\n",
              "      <th>1</th>\n",
              "      <td>0</td>\n",
              "      <td>0</td>\n",
              "      <td>0</td>\n",
              "      <td>0</td>\n",
              "      <td>0</td>\n",
              "      <td>0</td>\n",
              "      <td>0</td>\n",
              "      <td>0</td>\n",
              "      <td>0</td>\n",
              "      <td>0</td>\n",
              "      <td>...</td>\n",
              "      <td>0</td>\n",
              "      <td>0</td>\n",
              "      <td>0</td>\n",
              "      <td>0</td>\n",
              "      <td>0</td>\n",
              "      <td>0</td>\n",
              "      <td>0</td>\n",
              "      <td>0</td>\n",
              "      <td>0</td>\n",
              "      <td>0</td>\n",
              "    </tr>\n",
              "    <tr>\n",
              "      <th>2</th>\n",
              "      <td>1</td>\n",
              "      <td>0</td>\n",
              "      <td>0</td>\n",
              "      <td>0</td>\n",
              "      <td>0</td>\n",
              "      <td>0</td>\n",
              "      <td>0</td>\n",
              "      <td>0</td>\n",
              "      <td>0</td>\n",
              "      <td>0</td>\n",
              "      <td>...</td>\n",
              "      <td>0</td>\n",
              "      <td>0</td>\n",
              "      <td>0</td>\n",
              "      <td>0</td>\n",
              "      <td>0</td>\n",
              "      <td>0</td>\n",
              "      <td>0</td>\n",
              "      <td>0</td>\n",
              "      <td>0</td>\n",
              "      <td>0</td>\n",
              "    </tr>\n",
              "    <tr>\n",
              "      <th>3</th>\n",
              "      <td>4</td>\n",
              "      <td>0</td>\n",
              "      <td>0</td>\n",
              "      <td>0</td>\n",
              "      <td>0</td>\n",
              "      <td>0</td>\n",
              "      <td>0</td>\n",
              "      <td>0</td>\n",
              "      <td>0</td>\n",
              "      <td>0</td>\n",
              "      <td>...</td>\n",
              "      <td>0</td>\n",
              "      <td>0</td>\n",
              "      <td>0</td>\n",
              "      <td>0</td>\n",
              "      <td>0</td>\n",
              "      <td>0</td>\n",
              "      <td>0</td>\n",
              "      <td>0</td>\n",
              "      <td>0</td>\n",
              "      <td>0</td>\n",
              "    </tr>\n",
              "    <tr>\n",
              "      <th>4</th>\n",
              "      <td>0</td>\n",
              "      <td>0</td>\n",
              "      <td>0</td>\n",
              "      <td>0</td>\n",
              "      <td>0</td>\n",
              "      <td>0</td>\n",
              "      <td>0</td>\n",
              "      <td>0</td>\n",
              "      <td>0</td>\n",
              "      <td>0</td>\n",
              "      <td>...</td>\n",
              "      <td>0</td>\n",
              "      <td>0</td>\n",
              "      <td>0</td>\n",
              "      <td>0</td>\n",
              "      <td>0</td>\n",
              "      <td>0</td>\n",
              "      <td>0</td>\n",
              "      <td>0</td>\n",
              "      <td>0</td>\n",
              "      <td>0</td>\n",
              "    </tr>\n",
              "  </tbody>\n",
              "</table>\n",
              "<p>5 rows × 785 columns</p>\n",
              "</div>\n",
              "    <div class=\"colab-df-buttons\">\n",
              "\n",
              "  <div class=\"colab-df-container\">\n",
              "    <button class=\"colab-df-convert\" onclick=\"convertToInteractive('df-3833c148-c432-480a-9974-a46d3513d681')\"\n",
              "            title=\"Convert this dataframe to an interactive table.\"\n",
              "            style=\"display:none;\">\n",
              "\n",
              "  <svg xmlns=\"http://www.w3.org/2000/svg\" height=\"24px\" viewBox=\"0 -960 960 960\">\n",
              "    <path d=\"M120-120v-720h720v720H120Zm60-500h600v-160H180v160Zm220 220h160v-160H400v160Zm0 220h160v-160H400v160ZM180-400h160v-160H180v160Zm440 0h160v-160H620v160ZM180-180h160v-160H180v160Zm440 0h160v-160H620v160Z\"/>\n",
              "  </svg>\n",
              "    </button>\n",
              "\n",
              "  <style>\n",
              "    .colab-df-container {\n",
              "      display:flex;\n",
              "      gap: 12px;\n",
              "    }\n",
              "\n",
              "    .colab-df-convert {\n",
              "      background-color: #E8F0FE;\n",
              "      border: none;\n",
              "      border-radius: 50%;\n",
              "      cursor: pointer;\n",
              "      display: none;\n",
              "      fill: #1967D2;\n",
              "      height: 32px;\n",
              "      padding: 0 0 0 0;\n",
              "      width: 32px;\n",
              "    }\n",
              "\n",
              "    .colab-df-convert:hover {\n",
              "      background-color: #E2EBFA;\n",
              "      box-shadow: 0px 1px 2px rgba(60, 64, 67, 0.3), 0px 1px 3px 1px rgba(60, 64, 67, 0.15);\n",
              "      fill: #174EA6;\n",
              "    }\n",
              "\n",
              "    .colab-df-buttons div {\n",
              "      margin-bottom: 4px;\n",
              "    }\n",
              "\n",
              "    [theme=dark] .colab-df-convert {\n",
              "      background-color: #3B4455;\n",
              "      fill: #D2E3FC;\n",
              "    }\n",
              "\n",
              "    [theme=dark] .colab-df-convert:hover {\n",
              "      background-color: #434B5C;\n",
              "      box-shadow: 0px 1px 3px 1px rgba(0, 0, 0, 0.15);\n",
              "      filter: drop-shadow(0px 1px 2px rgba(0, 0, 0, 0.3));\n",
              "      fill: #FFFFFF;\n",
              "    }\n",
              "  </style>\n",
              "\n",
              "    <script>\n",
              "      const buttonEl =\n",
              "        document.querySelector('#df-3833c148-c432-480a-9974-a46d3513d681 button.colab-df-convert');\n",
              "      buttonEl.style.display =\n",
              "        google.colab.kernel.accessAllowed ? 'block' : 'none';\n",
              "\n",
              "      async function convertToInteractive(key) {\n",
              "        const element = document.querySelector('#df-3833c148-c432-480a-9974-a46d3513d681');\n",
              "        const dataTable =\n",
              "          await google.colab.kernel.invokeFunction('convertToInteractive',\n",
              "                                                    [key], {});\n",
              "        if (!dataTable) return;\n",
              "\n",
              "        const docLinkHtml = 'Like what you see? Visit the ' +\n",
              "          '<a target=\"_blank\" href=https://colab.research.google.com/notebooks/data_table.ipynb>data table notebook</a>'\n",
              "          + ' to learn more about interactive tables.';\n",
              "        element.innerHTML = '';\n",
              "        dataTable['output_type'] = 'display_data';\n",
              "        await google.colab.output.renderOutput(dataTable, element);\n",
              "        const docLink = document.createElement('div');\n",
              "        docLink.innerHTML = docLinkHtml;\n",
              "        element.appendChild(docLink);\n",
              "      }\n",
              "    </script>\n",
              "  </div>\n",
              "\n",
              "\n",
              "<div id=\"df-bc69da89-556f-4a4e-aafb-69b5d7a91a01\">\n",
              "  <button class=\"colab-df-quickchart\" onclick=\"quickchart('df-bc69da89-556f-4a4e-aafb-69b5d7a91a01')\"\n",
              "            title=\"Suggest charts\"\n",
              "            style=\"display:none;\">\n",
              "\n",
              "<svg xmlns=\"http://www.w3.org/2000/svg\" height=\"24px\"viewBox=\"0 0 24 24\"\n",
              "     width=\"24px\">\n",
              "    <g>\n",
              "        <path d=\"M19 3H5c-1.1 0-2 .9-2 2v14c0 1.1.9 2 2 2h14c1.1 0 2-.9 2-2V5c0-1.1-.9-2-2-2zM9 17H7v-7h2v7zm4 0h-2V7h2v10zm4 0h-2v-4h2v4z\"/>\n",
              "    </g>\n",
              "</svg>\n",
              "  </button>\n",
              "\n",
              "<style>\n",
              "  .colab-df-quickchart {\n",
              "      --bg-color: #E8F0FE;\n",
              "      --fill-color: #1967D2;\n",
              "      --hover-bg-color: #E2EBFA;\n",
              "      --hover-fill-color: #174EA6;\n",
              "      --disabled-fill-color: #AAA;\n",
              "      --disabled-bg-color: #DDD;\n",
              "  }\n",
              "\n",
              "  [theme=dark] .colab-df-quickchart {\n",
              "      --bg-color: #3B4455;\n",
              "      --fill-color: #D2E3FC;\n",
              "      --hover-bg-color: #434B5C;\n",
              "      --hover-fill-color: #FFFFFF;\n",
              "      --disabled-bg-color: #3B4455;\n",
              "      --disabled-fill-color: #666;\n",
              "  }\n",
              "\n",
              "  .colab-df-quickchart {\n",
              "    background-color: var(--bg-color);\n",
              "    border: none;\n",
              "    border-radius: 50%;\n",
              "    cursor: pointer;\n",
              "    display: none;\n",
              "    fill: var(--fill-color);\n",
              "    height: 32px;\n",
              "    padding: 0;\n",
              "    width: 32px;\n",
              "  }\n",
              "\n",
              "  .colab-df-quickchart:hover {\n",
              "    background-color: var(--hover-bg-color);\n",
              "    box-shadow: 0 1px 2px rgba(60, 64, 67, 0.3), 0 1px 3px 1px rgba(60, 64, 67, 0.15);\n",
              "    fill: var(--button-hover-fill-color);\n",
              "  }\n",
              "\n",
              "  .colab-df-quickchart-complete:disabled,\n",
              "  .colab-df-quickchart-complete:disabled:hover {\n",
              "    background-color: var(--disabled-bg-color);\n",
              "    fill: var(--disabled-fill-color);\n",
              "    box-shadow: none;\n",
              "  }\n",
              "\n",
              "  .colab-df-spinner {\n",
              "    border: 2px solid var(--fill-color);\n",
              "    border-color: transparent;\n",
              "    border-bottom-color: var(--fill-color);\n",
              "    animation:\n",
              "      spin 1s steps(1) infinite;\n",
              "  }\n",
              "\n",
              "  @keyframes spin {\n",
              "    0% {\n",
              "      border-color: transparent;\n",
              "      border-bottom-color: var(--fill-color);\n",
              "      border-left-color: var(--fill-color);\n",
              "    }\n",
              "    20% {\n",
              "      border-color: transparent;\n",
              "      border-left-color: var(--fill-color);\n",
              "      border-top-color: var(--fill-color);\n",
              "    }\n",
              "    30% {\n",
              "      border-color: transparent;\n",
              "      border-left-color: var(--fill-color);\n",
              "      border-top-color: var(--fill-color);\n",
              "      border-right-color: var(--fill-color);\n",
              "    }\n",
              "    40% {\n",
              "      border-color: transparent;\n",
              "      border-right-color: var(--fill-color);\n",
              "      border-top-color: var(--fill-color);\n",
              "    }\n",
              "    60% {\n",
              "      border-color: transparent;\n",
              "      border-right-color: var(--fill-color);\n",
              "    }\n",
              "    80% {\n",
              "      border-color: transparent;\n",
              "      border-right-color: var(--fill-color);\n",
              "      border-bottom-color: var(--fill-color);\n",
              "    }\n",
              "    90% {\n",
              "      border-color: transparent;\n",
              "      border-bottom-color: var(--fill-color);\n",
              "    }\n",
              "  }\n",
              "</style>\n",
              "\n",
              "  <script>\n",
              "    async function quickchart(key) {\n",
              "      const quickchartButtonEl =\n",
              "        document.querySelector('#' + key + ' button');\n",
              "      quickchartButtonEl.disabled = true;  // To prevent multiple clicks.\n",
              "      quickchartButtonEl.classList.add('colab-df-spinner');\n",
              "      try {\n",
              "        const charts = await google.colab.kernel.invokeFunction(\n",
              "            'suggestCharts', [key], {});\n",
              "      } catch (error) {\n",
              "        console.error('Error during call to suggestCharts:', error);\n",
              "      }\n",
              "      quickchartButtonEl.classList.remove('colab-df-spinner');\n",
              "      quickchartButtonEl.classList.add('colab-df-quickchart-complete');\n",
              "    }\n",
              "    (() => {\n",
              "      let quickchartButtonEl =\n",
              "        document.querySelector('#df-bc69da89-556f-4a4e-aafb-69b5d7a91a01 button');\n",
              "      quickchartButtonEl.style.display =\n",
              "        google.colab.kernel.accessAllowed ? 'block' : 'none';\n",
              "    })();\n",
              "  </script>\n",
              "</div>\n",
              "\n",
              "    </div>\n",
              "  </div>\n"
            ],
            "application/vnd.google.colaboratory.intrinsic+json": {
              "type": "dataframe",
              "variable_name": "data"
            }
          },
          "metadata": {},
          "execution_count": 16
        }
      ]
    },
    {
      "cell_type": "code",
      "source": [
        "# let's convert these pandas dataframe to numpy arrays so that we can apply linear\n",
        "#  algebra to these dataset"
      ],
      "metadata": {
        "execution": {
          "iopub.status.busy": "2024-04-05T08:35:11.227197Z",
          "iopub.execute_input": "2024-04-05T08:35:11.228023Z",
          "iopub.status.idle": "2024-04-05T08:35:11.231989Z",
          "shell.execute_reply.started": "2024-04-05T08:35:11.227993Z",
          "shell.execute_reply": "2024-04-05T08:35:11.230846Z"
        },
        "trusted": true,
        "id": "FmPjrnRuncbx"
      },
      "execution_count": null,
      "outputs": []
    },
    {
      "cell_type": "code",
      "source": [
        "data = np.array(data)\n",
        "m, n = data.shape\n",
        "np.random.shuffle(data) # shuffle before splitting into dev and training sets\n",
        "\n",
        "data_dev = data[0:1000].T\n",
        "Y_dev = data_dev[0]\n",
        "X_dev = data_dev[1:n]\n",
        "X_dev = X_dev / 255.\n",
        "\n",
        "data_train = data[1000:m].T\n",
        "Y_train = data_train[0]\n",
        "X_train = data_train[1:n]\n",
        "X_train = X_train / 255.\n",
        "_,m_train = X_train.shape"
      ],
      "metadata": {
        "execution": {
          "iopub.status.busy": "2024-04-05T08:35:31.692915Z",
          "iopub.execute_input": "2024-04-05T08:35:31.693623Z",
          "iopub.status.idle": "2024-04-05T08:35:32.692514Z",
          "shell.execute_reply.started": "2024-04-05T08:35:31.693587Z",
          "shell.execute_reply": "2024-04-05T08:35:32.691617Z"
        },
        "trusted": true,
        "id": "3ffbLgUXncbx"
      },
      "execution_count": null,
      "outputs": []
    },
    {
      "cell_type": "code",
      "source": [
        "Y_train"
      ],
      "metadata": {
        "execution": {
          "iopub.status.busy": "2024-04-05T08:35:40.583464Z",
          "iopub.execute_input": "2024-04-05T08:35:40.583836Z",
          "iopub.status.idle": "2024-04-05T08:35:40.590756Z",
          "shell.execute_reply.started": "2024-04-05T08:35:40.583807Z",
          "shell.execute_reply": "2024-04-05T08:35:40.589654Z"
        },
        "trusted": true,
        "colab": {
          "base_uri": "https://localhost:8080/"
        },
        "id": "DuNO7xftncbx",
        "outputId": "04d8f126-c919-4474-81a5-d94e250d5582"
      },
      "execution_count": null,
      "outputs": [
        {
          "output_type": "execute_result",
          "data": {
            "text/plain": [
              "array([9, 3, 2, ..., 2, 7, 2])"
            ]
          },
          "metadata": {},
          "execution_count": 19
        }
      ]
    },
    {
      "cell_type": "code",
      "source": [
        "X_train[:, 0].shape"
      ],
      "metadata": {
        "execution": {
          "iopub.status.busy": "2024-04-05T08:35:49.529088Z",
          "iopub.execute_input": "2024-04-05T08:35:49.529436Z",
          "iopub.status.idle": "2024-04-05T08:35:49.536740Z",
          "shell.execute_reply.started": "2024-04-05T08:35:49.529411Z",
          "shell.execute_reply": "2024-04-05T08:35:49.535694Z"
        },
        "trusted": true,
        "colab": {
          "base_uri": "https://localhost:8080/"
        },
        "id": "-63DRpt5ncbx",
        "outputId": "fa48b777-4b66-42c2-fb91-d55703350fcb"
      },
      "execution_count": null,
      "outputs": [
        {
          "output_type": "execute_result",
          "data": {
            "text/plain": [
              "(784,)"
            ]
          },
          "metadata": {},
          "execution_count": 20
        }
      ]
    },
    {
      "cell_type": "code",
      "source": [
        "def init_params():\n",
        "    W1 = np.random.rand(10, 784) - 0.5\n",
        "    b1 = np.random.rand(10, 1) - 0.5\n",
        "    W2 = np.random.rand(10, 10) - 0.5\n",
        "    b2 = np.random.rand(10, 1) - 0.5\n",
        "    return W1, b1, W2, b2\n",
        "\n",
        "def ReLU(Z):\n",
        "    return np.maximum(Z, 0)\n",
        "\n",
        "def softmax(Z):\n",
        "    A = np.exp(Z) / sum(np.exp(Z))\n",
        "    return A\n",
        "\n",
        "def forward_prop(W1, b1, W2, b2, X):\n",
        "    Z1 = W1.dot(X) + b1\n",
        "    A1 = ReLU(Z1)\n",
        "    Z2 = W2.dot(A1) + b2\n",
        "    A2 = softmax(Z2)\n",
        "    return Z1, A1, Z2, A2\n",
        "\n",
        "def ReLU_deriv(Z):\n",
        "    return Z > 0\n",
        "\n",
        "def one_hot(Y):\n",
        "    one_hot_Y = np.zeros((Y.size, Y.max() + 1))\n",
        "    one_hot_Y[np.arange(Y.size), Y] = 1\n",
        "    one_hot_Y = one_hot_Y.T\n",
        "    return one_hot_Y\n",
        "\n",
        "def backward_prop(Z1, A1, Z2, A2, W1, W2, X, Y):\n",
        "    one_hot_Y = one_hot(Y)\n",
        "    dZ2 = A2 - one_hot_Y\n",
        "    dW2 = 1 / m * dZ2.dot(A1.T)\n",
        "    db2 = 1 / m * np.sum(dZ2)\n",
        "    dZ1 = W2.T.dot(dZ2) * ReLU_deriv(Z1)\n",
        "    dW1 = 1 / m * dZ1.dot(X.T)\n",
        "    db1 = 1 / m * np.sum(dZ1)\n",
        "    return dW1, db1, dW2, db2\n",
        "\n",
        "def update_params(W1, b1, W2, b2, dW1, db1, dW2, db2, alpha):\n",
        "    W1 = W1 - alpha * dW1\n",
        "    b1 = b1 - alpha * db1\n",
        "    W2 = W2 - alpha * dW2\n",
        "    b2 = b2 - alpha * db2\n",
        "    return W1, b1, W2, b2"
      ],
      "metadata": {
        "execution": {
          "iopub.status.busy": "2024-04-05T08:35:50.571936Z",
          "iopub.execute_input": "2024-04-05T08:35:50.572290Z",
          "iopub.status.idle": "2024-04-05T08:35:50.582841Z",
          "shell.execute_reply.started": "2024-04-05T08:35:50.572262Z",
          "shell.execute_reply": "2024-04-05T08:35:50.582044Z"
        },
        "trusted": true,
        "id": "Kw3P-hagncbx"
      },
      "execution_count": null,
      "outputs": []
    },
    {
      "cell_type": "code",
      "source": [
        "def get_predictions(A2):\n",
        "    return np.argmax(A2, 0)\n",
        "\n",
        "def get_accuracy(predictions, Y):\n",
        "    print('The accuracy is: ')\n",
        "    print(predictions, Y)\n",
        "    return np.sum(predictions == Y) / Y.size\n",
        "\n",
        "def gradient_descent(X, Y, alpha, iterations):\n",
        "    W1, b1, W2, b2 = init_params()\n",
        "    for i in range(iterations):\n",
        "        Z1, A1, Z2, A2 = forward_prop(W1, b1, W2, b2, X)\n",
        "        dW1, db1, dW2, db2 = backward_prop(Z1, A1, Z2, A2, W1, W2, X, Y)\n",
        "        W1, b1, W2, b2 = update_params(W1, b1, W2, b2, dW1, db1, dW2, db2, alpha)\n",
        "        if i % 10 == 0:\n",
        "            print(\"Iteration: \", i)\n",
        "            predictions = get_predictions(A2)\n",
        "            print(get_accuracy(predictions, Y))\n",
        "    return W1, b1, W2, b2"
      ],
      "metadata": {
        "execution": {
          "iopub.status.busy": "2024-04-05T08:35:52.244334Z",
          "iopub.execute_input": "2024-04-05T08:35:52.245226Z",
          "iopub.status.idle": "2024-04-05T08:35:52.252475Z",
          "shell.execute_reply.started": "2024-04-05T08:35:52.245191Z",
          "shell.execute_reply": "2024-04-05T08:35:52.251400Z"
        },
        "trusted": true,
        "id": "dCGe2lZHncbx"
      },
      "execution_count": null,
      "outputs": []
    },
    {
      "cell_type": "code",
      "source": [
        "W1, b1, W2, b2 = gradient_descent(X_train, Y_train, 0.10, 500)"
      ],
      "metadata": {
        "execution": {
          "iopub.status.busy": "2024-04-05T08:35:53.931438Z",
          "iopub.execute_input": "2024-04-05T08:35:53.932320Z",
          "iopub.status.idle": "2024-04-05T08:36:55.374147Z",
          "shell.execute_reply.started": "2024-04-05T08:35:53.932285Z",
          "shell.execute_reply": "2024-04-05T08:36:55.372974Z"
        },
        "trusted": true,
        "colab": {
          "base_uri": "https://localhost:8080/"
        },
        "id": "EN1z4QFAncby",
        "outputId": "1326dddb-9c8f-4642-b4bc-c1c610de87af"
      },
      "execution_count": null,
      "outputs": [
        {
          "output_type": "stream",
          "name": "stdout",
          "text": [
            "Iteration:  0\n",
            "[1 3 1 ... 2 8 3] [9 3 2 ... 2 7 2]\n",
            "0.14282926829268291\n",
            "Iteration:  10\n",
            "[9 5 4 ... 2 8 3] [9 3 2 ... 2 7 2]\n",
            "0.19646341463414635\n",
            "Iteration:  20\n",
            "[9 5 4 ... 2 8 3] [9 3 2 ... 2 7 2]\n",
            "0.25090243902439024\n",
            "Iteration:  30\n",
            "[4 5 4 ... 2 7 8] [9 3 2 ... 2 7 2]\n",
            "0.3114390243902439\n",
            "Iteration:  40\n",
            "[4 5 4 ... 5 7 8] [9 3 2 ... 2 7 2]\n",
            "0.369\n",
            "Iteration:  50\n",
            "[4 5 4 ... 5 7 8] [9 3 2 ... 2 7 2]\n",
            "0.4346341463414634\n",
            "Iteration:  60\n",
            "[4 5 4 ... 0 7 1] [9 3 2 ... 2 7 2]\n",
            "0.484390243902439\n",
            "Iteration:  70\n",
            "[4 5 5 ... 0 7 1] [9 3 2 ... 2 7 2]\n",
            "0.5235609756097561\n",
            "Iteration:  80\n",
            "[4 5 5 ... 0 7 1] [9 3 2 ... 2 7 2]\n",
            "0.5592682926829269\n",
            "Iteration:  90\n",
            "[4 5 5 ... 0 7 1] [9 3 2 ... 2 7 2]\n",
            "0.5904878048780487\n",
            "Iteration:  100\n",
            "[4 5 5 ... 0 7 1] [9 3 2 ... 2 7 2]\n",
            "0.6158292682926829\n",
            "Iteration:  110\n",
            "[4 3 5 ... 6 7 1] [9 3 2 ... 2 7 2]\n",
            "0.6393170731707317\n",
            "Iteration:  120\n",
            "[4 3 5 ... 6 7 1] [9 3 2 ... 2 7 2]\n",
            "0.6593658536585366\n",
            "Iteration:  130\n",
            "[4 3 5 ... 6 7 2] [9 3 2 ... 2 7 2]\n",
            "0.6768780487804879\n",
            "Iteration:  140\n",
            "[4 3 5 ... 6 7 2] [9 3 2 ... 2 7 2]\n",
            "0.6933170731707317\n",
            "Iteration:  150\n",
            "[4 3 2 ... 6 7 2] [9 3 2 ... 2 7 2]\n",
            "0.7079268292682926\n",
            "Iteration:  160\n",
            "[4 3 2 ... 6 7 2] [9 3 2 ... 2 7 2]\n",
            "0.7218292682926829\n",
            "Iteration:  170\n",
            "[4 3 2 ... 6 7 2] [9 3 2 ... 2 7 2]\n",
            "0.7331707317073171\n",
            "Iteration:  180\n",
            "[4 3 2 ... 6 7 2] [9 3 2 ... 2 7 2]\n",
            "0.744\n",
            "Iteration:  190\n",
            "[4 3 2 ... 6 7 2] [9 3 2 ... 2 7 2]\n",
            "0.7533414634146341\n",
            "Iteration:  200\n",
            "[4 3 2 ... 6 7 2] [9 3 2 ... 2 7 2]\n",
            "0.7610975609756098\n",
            "Iteration:  210\n",
            "[4 3 2 ... 6 7 2] [9 3 2 ... 2 7 2]\n",
            "0.7681707317073171\n",
            "Iteration:  220\n",
            "[4 3 2 ... 6 7 2] [9 3 2 ... 2 7 2]\n",
            "0.7742439024390244\n",
            "Iteration:  230\n",
            "[4 3 2 ... 6 7 2] [9 3 2 ... 2 7 2]\n",
            "0.7800731707317073\n",
            "Iteration:  240\n",
            "[4 3 2 ... 6 7 2] [9 3 2 ... 2 7 2]\n",
            "0.7852682926829269\n",
            "Iteration:  250\n",
            "[4 3 2 ... 6 7 2] [9 3 2 ... 2 7 2]\n",
            "0.7905365853658537\n",
            "Iteration:  260\n",
            "[4 3 2 ... 6 7 2] [9 3 2 ... 2 7 2]\n",
            "0.7953658536585366\n",
            "Iteration:  270\n",
            "[4 3 2 ... 6 7 2] [9 3 2 ... 2 7 2]\n",
            "0.7999756097560976\n",
            "Iteration:  280\n",
            "[4 3 2 ... 6 7 2] [9 3 2 ... 2 7 2]\n",
            "0.8044146341463415\n",
            "Iteration:  290\n",
            "[4 3 2 ... 2 7 2] [9 3 2 ... 2 7 2]\n",
            "0.8084146341463415\n",
            "Iteration:  300\n",
            "[4 3 2 ... 2 7 2] [9 3 2 ... 2 7 2]\n",
            "0.8118780487804879\n",
            "Iteration:  310\n",
            "[4 3 2 ... 2 7 2] [9 3 2 ... 2 7 2]\n",
            "0.8151219512195121\n",
            "Iteration:  320\n",
            "[4 3 2 ... 2 7 2] [9 3 2 ... 2 7 2]\n",
            "0.8180731707317073\n",
            "Iteration:  330\n",
            "[4 3 2 ... 2 7 2] [9 3 2 ... 2 7 2]\n",
            "0.8214146341463414\n",
            "Iteration:  340\n",
            "[4 3 2 ... 2 7 2] [9 3 2 ... 2 7 2]\n",
            "0.8240487804878048\n",
            "Iteration:  350\n",
            "[4 3 2 ... 2 7 2] [9 3 2 ... 2 7 2]\n",
            "0.8268536585365853\n",
            "Iteration:  360\n",
            "[4 3 2 ... 2 7 2] [9 3 2 ... 2 7 2]\n",
            "0.8294634146341463\n",
            "Iteration:  370\n",
            "[4 3 2 ... 2 7 2] [9 3 2 ... 2 7 2]\n",
            "0.8319024390243902\n",
            "Iteration:  380\n",
            "[4 3 2 ... 2 7 2] [9 3 2 ... 2 7 2]\n",
            "0.833780487804878\n",
            "Iteration:  390\n",
            "[4 3 2 ... 2 7 2] [9 3 2 ... 2 7 2]\n",
            "0.8354390243902439\n",
            "Iteration:  400\n",
            "[4 3 2 ... 2 7 2] [9 3 2 ... 2 7 2]\n",
            "0.837\n",
            "Iteration:  410\n",
            "[4 3 2 ... 2 7 2] [9 3 2 ... 2 7 2]\n",
            "0.8387317073170731\n",
            "Iteration:  420\n",
            "[4 3 2 ... 2 7 2] [9 3 2 ... 2 7 2]\n",
            "0.8402195121951219\n",
            "Iteration:  430\n",
            "[4 3 2 ... 2 7 2] [9 3 2 ... 2 7 2]\n",
            "0.8416829268292683\n",
            "Iteration:  440\n",
            "[4 3 2 ... 2 7 2] [9 3 2 ... 2 7 2]\n",
            "0.8428536585365853\n",
            "Iteration:  450\n",
            "[4 3 2 ... 2 7 2] [9 3 2 ... 2 7 2]\n",
            "0.8442682926829268\n",
            "Iteration:  460\n",
            "[4 3 2 ... 2 7 2] [9 3 2 ... 2 7 2]\n",
            "0.8458048780487805\n",
            "Iteration:  470\n",
            "[4 3 2 ... 2 7 2] [9 3 2 ... 2 7 2]\n",
            "0.8472926829268292\n",
            "Iteration:  480\n",
            "[4 3 2 ... 2 7 2] [9 3 2 ... 2 7 2]\n",
            "0.8484634146341463\n",
            "Iteration:  490\n",
            "[4 3 2 ... 2 7 2] [9 3 2 ... 2 7 2]\n",
            "0.8501951219512195\n"
          ]
        }
      ]
    },
    {
      "cell_type": "code",
      "source": [
        "def make_predictions(X, W1, b1, W2, b2):\n",
        "    _, _, _, A2 = forward_prop(W1, b1, W2, b2, X)\n",
        "    predictions = get_predictions(A2)\n",
        "    return predictions\n",
        "\n",
        "def test_prediction(index, W1, b1, W2, b2):\n",
        "    current_image = X_train[:, index, None]\n",
        "    prediction = make_predictions(X_train[:, index, None], W1, b1, W2, b2)\n",
        "    label = Y_train[index]\n",
        "    print(\"Prediction: \", prediction)\n",
        "    print(\"Label: \", label)\n",
        "\n",
        "    current_image = current_image.reshape((28, 28)) * 255\n",
        "    plt.imshow(current_image, cmap='gray', interpolation='nearest')\n",
        "    plt.show()"
      ],
      "metadata": {
        "execution": {
          "iopub.status.busy": "2024-04-05T08:39:17.727444Z",
          "iopub.execute_input": "2024-04-05T08:39:17.727824Z",
          "iopub.status.idle": "2024-04-05T08:39:17.734999Z",
          "shell.execute_reply.started": "2024-04-05T08:39:17.727793Z",
          "shell.execute_reply": "2024-04-05T08:39:17.733978Z"
        },
        "trusted": true,
        "id": "13OZtvoPncby"
      },
      "execution_count": null,
      "outputs": []
    },
    {
      "cell_type": "code",
      "source": [
        "test_prediction(0, W1, b1, W2, b2)\n",
        "test_prediction(1, W1, b1, W2, b2)\n",
        "test_prediction(2, W1, b1, W2, b2)\n",
        "test_prediction(3, W1, b1, W2, b2)"
      ],
      "metadata": {
        "execution": {
          "iopub.status.busy": "2024-04-05T08:40:48.259839Z",
          "iopub.execute_input": "2024-04-05T08:40:48.260239Z",
          "iopub.status.idle": "2024-04-05T08:40:48.308365Z",
          "shell.execute_reply.started": "2024-04-05T08:40:48.260206Z",
          "shell.execute_reply": "2024-04-05T08:40:48.307025Z"
        },
        "trusted": true,
        "colab": {
          "base_uri": "https://localhost:8080/",
          "height": 1000
        },
        "id": "EVP6vRfvncby",
        "outputId": "9c723963-b0c4-4c50-c01d-bfcbef93b209"
      },
      "execution_count": null,
      "outputs": [
        {
          "output_type": "stream",
          "name": "stdout",
          "text": [
            "Prediction:  [4]\n",
            "Label:  9\n"
          ]
        },
        {
          "output_type": "display_data",
          "data": {
            "text/plain": [
              "<Figure size 640x480 with 1 Axes>"
            ],
            "image/png": "[encoded data removed]"
          },
          "metadata": {}
        },
        {
          "output_type": "stream",
          "name": "stdout",
          "text": [
            "Prediction:  [3]\n",
            "Label:  3\n"
          ]
        },
        {
          "output_type": "display_data",
          "data": {
            "text/plain": [
              "<Figure size 640x480 with 1 Axes>"
            ],
            "image/png": "[encoded data removed]"
          },
          "metadata": {}
        },
        {
          "output_type": "stream",
          "name": "stdout",
          "text": [
            "Prediction:  [2]\n",
            "Label:  2\n"
          ]
        },
        {
          "output_type": "display_data",
          "data": {
            "text/plain": [
              "<Figure size 640x480 with 1 Axes>"
            ],
            "image/png": "[encoded data removed]"
          },
          "metadata": {}
        },
        {
          "output_type": "stream",
          "name": "stdout",
          "text": [
            "Prediction:  [3]\n",
            "Label:  3\n"
          ]
        },
        {
          "output_type": "display_data",
          "data": {
            "text/plain": [
              "<Figure size 640x480 with 1 Axes>"
            ],
            "image/png": "[encoded data removed]"
          },
          "metadata": {}
        }
      ]
    },
    {
      "cell_type": "code",
      "source": [
        "dev_predictions = make_predictions(X_dev, W1, b1, W2, b2)"
      ],
      "metadata": {
        "id": "SBxTQbM1ncby"
      },
      "execution_count": null,
      "outputs": []
    },
    {
      "cell_type": "code",
      "source": [
        "get_accuracy(dev_predictions, Y_dev)"
      ],
      "metadata": {
        "colab": {
          "base_uri": "https://localhost:8080/"
        },
        "id": "SY6FQHkOgRpp",
        "outputId": "5ddf21f0-aa70-4f8f-8f12-c47139098f68"
      },
      "execution_count": null,
      "outputs": [
        {
          "output_type": "stream",
          "name": "stdout",
          "text": [
            "The accuracy is: \n",
            "[8 7 3 3 4 1 5 1 5 1 4 5 9 3 5 7 4 1 6 9 5 4 7 4 7 3 8 3 8 8 3 1 3 8 2 9 3\n",
            " 2 5 3 7 6 4 2 2 6 6 1 3 1 1 1 4 6 0 6 4 3 6 5 1 4 1 8 1 5 1 2 3 4 1 9 5 0\n",
            " 0 2 3 0 6 1 8 8 8 3 6 0 7 3 9 7 4 3 2 7 3 7 1 9 5 6 1 1 2 7 0 9 3 2 3 8 6\n",
            " 4 4 7 1 2 7 2 6 7 6 5 6 6 9 0 4 4 7 1 3 1 8 9 1 4 2 4 9 7 1 4 3 1 3 6 5 9\n",
            " 9 5 1 7 2 2 3 0 4 4 7 3 1 9 6 3 2 3 2 5 9 7 4 9 8 3 3 4 9 3 4 5 3 6 7 3 3\n",
            " 0 7 0 2 4 3 1 4 7 4 4 2 9 4 4 5 9 6 3 0 7 5 6 7 5 5 1 7 2 7 6 1 5 4 9 6 0\n",
            " 9 7 9 8 6 6 1 0 2 7 7 9 1 0 1 2 7 7 8 8 2 4 1 6 6 2 6 9 1 9 2 5 3 2 3 1 6\n",
            " 0 6 9 9 4 8 5 6 7 4 9 8 1 4 9 4 6 3 3 8 9 0 0 9 2 8 2 3 1 7 4 5 9 7 3 1 6\n",
            " 3 8 4 0 6 1 8 9 0 1 7 1 2 3 0 9 4 4 7 8 3 3 8 0 5 4 9 1 7 2 7 2 0 6 9 2 6\n",
            " 5 2 6 9 0 6 2 7 2 3 6 0 8 9 6 3 7 0 2 4 9 4 0 9 1 7 3 2 3 4 9 2 8 7 7 1 1\n",
            " 2 9 9 4 1 6 6 4 8 9 5 5 9 7 4 8 7 9 5 2 5 2 9 7 7 5 0 6 2 4 3 1 4 5 4 9 7\n",
            " 3 8 3 2 1 7 7 8 0 9 0 1 3 4 2 2 9 0 7 2 3 6 0 4 9 7 9 5 9 0 2 3 4 9 3 5 8\n",
            " 2 9 0 7 7 6 5 9 1 8 8 6 6 4 8 0 4 1 5 3 3 2 9 6 2 2 3 4 7 4 2 7 6 1 0 9 1\n",
            " 5 8 7 8 6 0 4 6 7 1 5 6 7 1 4 9 1 0 6 8 5 5 1 6 7 4 7 2 6 5 1 6 2 6 1 1 0\n",
            " 6 8 8 7 4 2 5 6 1 9 3 0 2 9 1 5 6 6 0 1 2 5 1 0 5 7 8 4 5 7 4 8 6 7 9 3 7\n",
            " 2 7 0 1 0 6 1 6 7 0 8 2 5 5 4 7 4 3 7 9 7 2 4 6 9 5 1 2 8 2 2 9 6 0 8 3 9\n",
            " 0 9 1 6 3 3 1 9 8 1 1 6 3 6 2 1 6 7 4 7 3 4 7 0 0 3 3 0 8 2 5 4 4 1 1 8 4\n",
            " 5 5 6 7 0 7 2 5 7 0 4 2 3 2 2 6 1 9 8 5 0 8 0 6 3 5 7 1 2 3 8 3 8 3 5 4 3\n",
            " 2 1 9 3 9 2 9 2 0 4 3 2 3 2 5 1 9 3 9 6 9 7 9 7 7 9 9 3 3 4 2 7 7 3 3 6 2\n",
            " 5 8 8 1 8 1 5 6 7 9 2 7 3 4 3 2 1 4 9 6 9 6 1 5 3 4 7 0 9 7 4 7 5 5 2 0 6\n",
            " 6 3 6 4 7 0 8 4 1 1 4 5 8 0 3 3 5 3 1 6 1 0 7 2 5 8 6 3 7 9 2 7 7 0 6 8 2\n",
            " 5 4 6 8 5 6 4 7 8 2 3 4 2 0 0 3 0 5 9 6 8 3 9 5 4 9 9 5 6 6 0 4 1 5 6 7 7\n",
            " 4 3 8 0 4 1 1 3 8 2 5 4 7 4 9 8 9 8 6 0 8 3 6 4 8 6 6 3 1 4 1 2 6 8 8 7 5\n",
            " 2 4 8 4 2 9 4 8 6 7 3 1 2 9 0 3 6 0 0 9 1 9 0 0 5 7 1 7 5 0 2 7 5 7 7 6 1\n",
            " 5 3 1 0 5 1 3 3 2 5 5 3 0 7 1 0 4 8 0 8 1 0 3 0 2 1 2 5 4 5 0 8 0 0 0 8 6\n",
            " 0 1 7 0 7 3 1 7 4 9 1 1 2 5 6 6 8 4 3 9 7 4 5 4 0 5 1 6 7 1 8 2 3 6 4 9 7\n",
            " 1 3 2 5 4 8 0 7 4 3 3 2 4 9 6 9 5 1 3 9 6 2 6 6 7 0 8 0 1 9 4 0 4 0 8 9 0\n",
            " 8] [8 7 9 2 4 1 5 1 6 6 4 8 9 2 7 7 4 1 6 9 5 4 7 4 7 3 8 3 8 8 9 1 3 8 2 9 8\n",
            " 2 3 3 7 6 4 2 2 6 6 1 3 1 1 1 4 6 0 6 4 5 6 8 1 4 1 8 1 8 1 2 3 4 1 9 5 0\n",
            " 5 2 3 6 6 1 8 8 8 3 6 0 7 3 9 7 4 5 2 7 3 7 1 9 8 6 1 1 2 7 0 9 3 2 8 8 6\n",
            " 4 4 7 1 2 7 2 6 7 8 5 5 6 9 0 4 4 7 2 5 1 4 9 1 4 2 4 9 7 1 4 3 1 3 4 5 9\n",
            " 9 5 1 7 2 2 3 0 4 4 7 3 1 9 6 3 2 3 2 5 9 7 4 9 8 8 3 4 9 3 2 5 3 6 7 3 3\n",
            " 0 7 0 5 4 3 1 4 7 4 4 2 9 4 4 5 7 6 3 0 7 5 6 7 5 5 1 7 2 7 6 1 5 4 9 6 0\n",
            " 9 7 9 8 6 6 1 0 2 7 7 9 1 0 6 3 3 7 2 8 2 4 1 6 6 2 6 9 1 9 2 5 5 2 3 1 6\n",
            " 0 5 9 9 0 8 5 6 7 4 9 8 1 4 9 4 6 3 3 8 9 0 0 9 2 8 2 3 1 7 4 5 9 7 3 1 6\n",
            " 3 8 5 7 6 1 8 9 0 1 7 1 2 3 0 9 8 4 9 8 3 5 8 0 5 4 9 1 7 2 7 2 0 6 9 2 6\n",
            " 5 2 6 4 0 6 8 7 2 3 6 0 8 9 6 8 9 0 2 4 7 4 0 4 2 7 3 2 3 4 9 2 1 7 7 1 1\n",
            " 2 4 9 9 1 6 6 9 8 9 3 5 9 7 4 8 7 9 5 2 5 2 9 9 7 5 0 6 2 4 3 1 4 5 5 9 7\n",
            " 3 5 3 2 1 7 4 8 0 9 0 2 8 4 2 2 9 0 7 2 3 6 0 1 9 7 9 3 9 0 2 0 4 3 3 5 2\n",
            " 2 9 0 7 7 6 5 4 1 8 8 6 6 4 1 0 4 1 5 3 8 2 9 6 2 2 8 4 7 4 2 9 6 1 0 9 1\n",
            " 5 8 7 5 6 5 8 6 7 1 5 6 7 1 9 9 1 0 6 8 5 5 1 6 7 4 7 2 6 5 1 6 2 6 1 1 0\n",
            " 6 8 5 7 4 8 5 5 1 9 3 0 2 9 1 6 6 6 0 1 2 5 1 9 5 7 8 4 8 7 8 8 6 7 9 3 7\n",
            " 2 9 2 1 0 6 8 6 7 0 5 2 5 5 4 7 4 3 9 9 7 2 4 6 9 5 1 9 8 2 5 7 4 0 8 3 9\n",
            " 0 9 1 6 3 3 1 2 8 1 1 6 3 6 2 1 6 7 4 7 3 4 7 0 0 3 3 0 8 2 5 9 4 1 1 8 4\n",
            " 6 3 6 7 0 7 2 5 7 0 4 2 3 2 2 6 1 9 8 3 0 8 0 6 3 5 7 1 2 3 8 3 8 3 5 4 5\n",
            " 3 2 5 3 9 2 9 2 0 4 3 2 5 2 5 1 9 3 9 6 9 7 9 7 7 9 9 3 3 4 2 7 7 3 3 6 2\n",
            " 0 8 8 1 8 1 5 6 7 9 2 7 3 8 3 2 6 4 9 6 9 8 1 5 3 4 7 0 9 5 4 7 5 5 2 0 6\n",
            " 2 3 6 9 7 0 5 4 1 1 4 5 8 0 7 3 5 3 1 6 1 0 7 2 5 8 6 3 2 9 2 7 7 0 6 8 2\n",
            " 5 4 6 8 5 6 6 7 8 3 3 4 2 0 0 3 0 5 9 6 8 3 9 5 9 3 9 6 6 6 0 4 1 6 6 7 7\n",
            " 4 3 8 0 2 1 1 7 8 2 5 2 7 5 9 5 9 8 6 0 8 5 5 4 8 6 5 3 5 9 1 2 4 8 8 7 5\n",
            " 6 6 8 4 2 7 4 5 6 7 3 1 2 9 5 3 6 0 0 9 1 9 0 0 5 7 1 7 5 0 2 7 5 7 7 6 1\n",
            " 5 2 1 0 3 1 3 3 2 5 5 3 0 7 8 0 4 8 0 8 1 0 8 0 2 1 2 3 5 8 0 8 0 0 0 5 6\n",
            " 4 1 7 0 7 3 1 7 4 4 1 1 2 5 6 6 8 4 3 9 7 4 5 4 0 5 1 6 7 1 8 2 3 6 4 9 7\n",
            " 1 3 2 5 4 8 0 7 4 3 3 2 4 9 6 8 8 1 3 9 6 3 6 6 7 0 8 0 1 9 4 0 4 0 8 7 0\n",
            " 4]\n"
          ]
        },
        {
          "output_type": "execute_result",
          "data": {
            "text/plain": [
              "0.855"
            ]
          },
          "metadata": {},
          "execution_count": 33
        }
      ]
    },
    {
      "cell_type": "code",
      "source": [],
      "metadata": {
        "id": "9A2lEDRfgWeq"
      },
      "execution_count": null,
      "outputs": []
    }
  ]
}